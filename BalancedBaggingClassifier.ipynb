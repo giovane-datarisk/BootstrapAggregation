{
 "cells": [
  {
   "cell_type": "markdown",
   "id": "c9587eeb-171c-4fda-86b8-da013fcec063",
   "metadata": {
    "tags": []
   },
   "source": [
    "## Bibliotecas"
   ]
  },
  {
   "cell_type": "code",
   "execution_count": 1,
   "id": "2f4b52a8-55f7-45db-9030-bd8f0405e0b8",
   "metadata": {},
   "outputs": [],
   "source": [
    "import pandas as pd\n",
    "import numpy as np\n",
    "from numpy import arange\n",
    "from sklearn.tree import DecisionTreeClassifier\n",
    "from sklearn.datasets import make_classification\n",
    "from sklearn.model_selection import train_test_split\n",
    "from sklearn.model_selection import cross_val_score\n",
    "from sklearn.model_selection import RepeatedStratifiedKFold\n",
    "from sklearn.model_selection import RandomizedSearchCV\n",
    "from sklearn.ensemble import BaggingClassifier\n",
    "from imblearn.ensemble import BalancedBaggingClassifier\n",
    "from sklearn import metrics\n",
    "from sklearn.metrics import confusion_matrix\n",
    "from sklearn.metrics import plot_confusion_matrix\n",
    "from sklearn.metrics import precision_score\n",
    "from sklearn.metrics import recall_score\n",
    "from sklearn.metrics import f1_score\n",
    "from numpy import mean\n",
    "from numpy import std\n",
    "import matplotlib.pyplot as plt\n",
    "import seaborn as sns"
   ]
  },
  {
   "cell_type": "markdown",
   "id": "03a12e10-7c53-4518-9af7-39cd5b5bb29e",
   "metadata": {
    "tags": []
   },
   "source": [
    "## Gerando Dataset Desbalanceado para Classificação"
   ]
  },
  {
   "cell_type": "code",
   "execution_count": 2,
   "id": "761ef373-38b3-49cb-af64-0f1a792b9a01",
   "metadata": {},
   "outputs": [
    {
     "data": {
      "text/plain": [
       "0    0.95\n",
       "1    0.05\n",
       "Name: y, dtype: float64"
      ]
     },
     "execution_count": 2,
     "metadata": {},
     "output_type": "execute_result"
    }
   ],
   "source": [
    "# Gerando dataset desbalanceado com 95% y=0 e 5% y=1 \n",
    "X, y = make_classification(n_samples=10000, n_features=30, n_informative=25, n_redundant=5, \n",
    "                           n_clusters_per_class=1, weights=[0.95], flip_y=0, random_state=42)\n",
    "dataset = pd.DataFrame(X)\n",
    "dataset['y'] = y\n",
    "dataset['y'].value_counts(True)"
   ]
  },
  {
   "cell_type": "markdown",
   "id": "efd560c9-4ff2-47d0-8fa9-9f6d8b2392f6",
   "metadata": {},
   "source": [
    "### Partição treino/validação/teste"
   ]
  },
  {
   "cell_type": "code",
   "execution_count": 3,
   "id": "48566997-f9ef-4c18-b14e-cff45ca7d5a8",
   "metadata": {},
   "outputs": [
    {
     "name": "stdout",
     "output_type": "stream",
     "text": [
      "(7000, 30)\n",
      "(1500, 30)\n",
      "(1500, 30)\n"
     ]
    }
   ],
   "source": [
    "X_train, X_, y_train, y_ = train_test_split(X, y, random_state=42, test_size=0.3)\n",
    "X_val, X_test, y_val, y_test = train_test_split(X_, y_, random_state=42, test_size=0.5)\n",
    "\n",
    "print(X_train.shape)\n",
    "print(X_val.shape)\n",
    "print(X_test.shape)"
   ]
  },
  {
   "cell_type": "markdown",
   "id": "cd9e0830-d937-451d-9b93-d5a10d7194ab",
   "metadata": {
    "tags": []
   },
   "source": [
    "## Implementando Algoritmo de Árvore de Decisão"
   ]
  },
  {
   "cell_type": "markdown",
   "id": "18889807-be32-4e34-8fe5-9a12754366b2",
   "metadata": {},
   "source": [
    "### Modelo default"
   ]
  },
  {
   "cell_type": "code",
   "execution_count": 4,
   "id": "d3bcd45e-d267-4d80-bdfe-597c57a892a8",
   "metadata": {},
   "outputs": [
    {
     "name": "stdout",
     "output_type": "stream",
     "text": [
      "AUC train: 1.0\n",
      "AUC val: 0.7673152796843652\n",
      "AUC test: 0.7590616523964595\n"
     ]
    }
   ],
   "source": [
    "model = DecisionTreeClassifier(random_state=42).fit(X_train, y_train)\n",
    "\n",
    "prob_train = model.predict_proba(X_train)[:, 1]\n",
    "prob_val = model.predict_proba(X_val)[:, 1]\n",
    "prob_test = model.predict_proba(X_test)[:, 1]\n",
    "print(f\"AUC train: {metrics.roc_auc_score(y_train, prob_train)}\")\n",
    "print(f\"AUC val: {metrics.roc_auc_score(y_val, prob_val)}\")\n",
    "print(f\"AUC test: {metrics.roc_auc_score(y_test, prob_test)}\")"
   ]
  },
  {
   "cell_type": "code",
   "execution_count": 5,
   "id": "d3cf69dd-5fc1-479d-871f-b2760e46b28a",
   "metadata": {},
   "outputs": [
    {
     "name": "stdout",
     "output_type": "stream",
     "text": [
      "Matriz de confusão validação:\n",
      "\n"
     ]
    },
    {
     "data": {
      "image/png": "[encoded data removed]",
      "text/plain": [
       "<Figure size 576x432 with 1 Axes>"
      ]
     },
     "metadata": {
      "needs_background": "light"
     },
     "output_type": "display_data"
    },
    {
     "name": "stdout",
     "output_type": "stream",
     "text": [
      "Precisão: 0.6779661016949152\n",
      "Recall: 0.547945205479452\n",
      "f1: 0.6060606060606061\n",
      "\n",
      "---------------------------------------------------------\n",
      "\n",
      "Matriz de confusão teste:\n",
      "\n"
     ]
    },
    {
     "data": {
      "image/png": "[encoded data removed]",
      "text/plain": [
       "<Figure size 576x432 with 1 Axes>"
      ]
     },
     "metadata": {
      "needs_background": "light"
     },
     "output_type": "display_data"
    },
    {
     "name": "stdout",
     "output_type": "stream",
     "text": [
      "Precisão: 0.7213114754098361\n",
      "Recall: 0.5301204819277109\n",
      "f1: 0.6111111111111112\n"
     ]
    }
   ],
   "source": [
    "# Função para plot da matriz de confusão\n",
    "def matriz_confusao(confusion):\n",
    "    group_names = ['TN','FP','FN','TP']\n",
    "    group_counts = [\"{0:0.0f}\".format(value) for value in confusion.flatten()]\n",
    "    labels = [f\"{v1}\\n{v2}\" for v1, v2 in zip(group_names,group_counts)]\n",
    "    labels = np.asarray(labels).reshape(2,2)\n",
    "    plt.figure(figsize=(8,6))\n",
    "    cmap = sns.diverging_palette(250, 210, l=55, as_cmap=True)\n",
    "    sns.heatmap(confusion, annot=labels, fmt='', cmap=cmap, cbar=False, linecolor='black', linewidths=1.0)\n",
    "    plt.ylabel('True label')\n",
    "    plt.xlabel('Predicted label')\n",
    "    plt.rcParams.update({'font.size': 18})\n",
    "    return plt.show()\n",
    "\n",
    "# Matrizes de confusão e métricas para validação e teste com ponto de corte = 0,5\n",
    "pred_val = (model.predict_proba(X_val)[:,1] >= 0.5).astype(bool)\n",
    "confusion_val = confusion_matrix(y_val, pred_val)\n",
    "print(f\"Matriz de confusão validação:\\n\")\n",
    "matriz_confusao(confusion_val)\n",
    "precision_val = precision_score(y_val, pred_val, average='binary')\n",
    "recall_val = recall_score(y_val, pred_val, average='binary')\n",
    "f1_val = f1_score(y_val, pred_val, average='binary')\n",
    "print(f\"Precisão: {precision_val}\")\n",
    "print(f\"Recall: {recall_val}\")\n",
    "print(f\"f1: {f1_val}\")\n",
    "\n",
    "print('\\n---------------------------------------------------------\\n')\n",
    "\n",
    "pred_test = (model.predict_proba(X_test)[:,1] >= 0.5).astype(bool)\n",
    "confusion_test = confusion_matrix(y_test, pred_test)\n",
    "print(f\"Matriz de confusão teste:\\n\")\n",
    "matriz_confusao(confusion_test)\n",
    "precision_test = precision_score(y_test, pred_test, average='binary')\n",
    "recall_test = recall_score(y_test, pred_test, average='binary')\n",
    "f1_test = f1_score(y_test, pred_test, average='binary')\n",
    "print(f\"Precisão: {precision_test}\")\n",
    "print(f\"Recall: {recall_test}\")\n",
    "print(f\"f1: {f1_test}\")"
   ]
  },
  {
   "cell_type": "code",
   "execution_count": 6,
   "id": "b029edc6-53bd-48c3-ae21-027d94272970",
   "metadata": {},
   "outputs": [
    {
     "name": "stdout",
     "output_type": "stream",
     "text": [
      "Matriz de confusão:\n",
      "[[1400   17]\n",
      " [  39   44]]\n"
     ]
    }
   ],
   "source": [
    "pred_test = (model.predict_proba(X_test)[:,1] >= 0.5).astype(bool)\n",
    "confusion_test = confusion_matrix(y_test, pred_test)\n",
    "print(f\"Matriz de confusão:\\n{(confusion_test)}\")"
   ]
  },
  {
   "cell_type": "markdown",
   "id": "b3333211-0ca3-4743-9fe7-de6f2487e303",
   "metadata": {},
   "source": [
    "### Hyperparameters Tuning"
   ]
  },
  {
   "cell_type": "code",
   "execution_count": 7,
   "id": "2c5a463a-4a01-4f05-b2a6-c11945ea2759",
   "metadata": {},
   "outputs": [
    {
     "name": "stdout",
     "output_type": "stream",
     "text": [
      "Fitting 30 folds for each of 1000 candidates, totalling 30000 fits\n",
      "Best params: {'splitter': 'best', 'min_samples_leaf': 52, 'max_features': 'auto', 'max_depth': 18, 'criterion': 'entropy', 'ccp_alpha': 0.001}\n",
      "Best score: 0.8898868113074215\n"
     ]
    }
   ],
   "source": [
    "# Parâmetros para tunning\n",
    "params = {'criterion' :['gini', 'entropy'],\n",
    "         'splitter': ['best', 'random'],\n",
    "         'max_features': ['auto', 'sqrt', 'log2'],\n",
    "         'ccp_alpha': [0, 0.1, 0.01, 0.001],\n",
    "         'max_depth' : range(2, 102, 2),\n",
    "         'min_samples_leaf': range(2, 102, 2),\n",
    "        }\n",
    "\n",
    "# Definição do cross-validation\n",
    "cv = RepeatedStratifiedKFold(n_splits=10, n_repeats=3, random_state=42)\n",
    "\n",
    "# Busca dos parâmetros usando RandomizedSearchCV\n",
    "random_search = RandomizedSearchCV(model, params, n_iter=1000, scoring='roc_auc', verbose=1, n_jobs=-1, cv=cv, random_state=42)\n",
    "result = random_search.fit(X_train, y_train)\n",
    "print(f\"Best params: {result.best_params_}\")\n",
    "print(f\"Best score: {result.best_score_}\")"
   ]
  },
  {
   "cell_type": "code",
   "execution_count": 8,
   "id": "0b83b680-3a63-4daa-90a3-313864e39768",
   "metadata": {},
   "outputs": [
    {
     "name": "stdout",
     "output_type": "stream",
     "text": [
      "Best Score: 0.8898868113074215\n",
      "Best Hyperparameters: {'splitter': 'best', 'min_samples_leaf': 52, 'max_features': 'auto', 'max_depth': 18, 'criterion': 'entropy', 'ccp_alpha': 0.001}\n"
     ]
    }
   ],
   "source": [
    "# summarize result\n",
    "print(f'Best Score: {result.best_score_}')\n",
    "print(f'Best Hyperparameters: {result.best_params_}')"
   ]
  },
  {
   "cell_type": "code",
   "execution_count": 9,
   "id": "715484f1-4f6a-4027-9c12-1cd3119ac838",
   "metadata": {},
   "outputs": [
    {
     "name": "stdout",
     "output_type": "stream",
     "text": [
      "AUC train: 0.9532420477415027\n",
      "AUC val: 0.8370947768572827\n",
      "AUC test: 0.8630952887059885\n"
     ]
    }
   ],
   "source": [
    "model_dtt = DecisionTreeClassifier(**result.best_params_, random_state=42).fit(X_train, y_train)\n",
    "\n",
    "prob_train = model_dtt.predict_proba(X_train)[:, 1]\n",
    "prob_val = model_dtt.predict_proba(X_val)[:, 1]\n",
    "prob_test = model_dtt.predict_proba(X_test)[:, 1]\n",
    "print(f\"AUC train: {metrics.roc_auc_score(y_train, prob_train)}\")\n",
    "print(f\"AUC val: {metrics.roc_auc_score(y_val, prob_val)}\")\n",
    "print(f\"AUC test: {metrics.roc_auc_score(y_test, prob_test)}\")"
   ]
  },
  {
   "cell_type": "code",
   "execution_count": 10,
   "id": "62b64450-f432-4052-9642-1bac85b4b78c",
   "metadata": {},
   "outputs": [
    {
     "name": "stdout",
     "output_type": "stream",
     "text": [
      "Matriz de confusão validação:\n",
      "\n"
     ]
    },
    {
     "data": {
      "image/png": "[encoded data removed]",
      "text/plain": [
       "<Figure size 576x432 with 1 Axes>"
      ]
     },
     "metadata": {
      "needs_background": "light"
     },
     "output_type": "display_data"
    },
    {
     "name": "stdout",
     "output_type": "stream",
     "text": [
      "Precisão: 0.5909090909090909\n",
      "Recall: 0.1780821917808219\n",
      "f1: 0.2736842105263158\n",
      "\n",
      "---------------------------------------------------------\n",
      "\n",
      "Matriz de confusão teste:\n",
      "\n"
     ]
    },
    {
     "data": {
      "image/png": "[encoded data removed]",
      "text/plain": [
       "<Figure size 576x432 with 1 Axes>"
      ]
     },
     "metadata": {
      "needs_background": "light"
     },
     "output_type": "display_data"
    },
    {
     "name": "stdout",
     "output_type": "stream",
     "text": [
      "Precisão: 0.7931034482758621\n",
      "Recall: 0.27710843373493976\n",
      "f1: 0.41071428571428575\n"
     ]
    }
   ],
   "source": [
    "# Matrizes de confusão e métricas para validação e teste com ponto de corte = 0,5\n",
    "pred_val = (model_dtt.predict_proba(X_val)[:,1] >= 0.5).astype(bool)\n",
    "confusion_val = confusion_matrix(y_val, pred_val)\n",
    "print(f\"Matriz de confusão validação:\\n\")\n",
    "matriz_confusao(confusion_val)\n",
    "precision_val = precision_score(y_val, pred_val, average='binary')\n",
    "recall_val = recall_score(y_val, pred_val, average='binary')\n",
    "f1_val = f1_score(y_val, pred_val, average='binary')\n",
    "print(f\"Precisão: {precision_val}\")\n",
    "print(f\"Recall: {recall_val}\")\n",
    "print(f\"f1: {f1_val}\")\n",
    "\n",
    "print('\\n---------------------------------------------------------\\n')\n",
    "\n",
    "pred_test = (model_dtt.predict_proba(X_test)[:,1] >= 0.5).astype(bool)\n",
    "confusion_test = confusion_matrix(y_test, pred_test)\n",
    "print(f\"Matriz de confusão teste:\\n\")\n",
    "matriz_confusao(confusion_test)\n",
    "precision_test = precision_score(y_test, pred_test, average='binary')\n",
    "recall_test = recall_score(y_test, pred_test, average='binary')\n",
    "f1_test = f1_score(y_test, pred_test, average='binary')\n",
    "print(f\"Precisão: {precision_test}\")\n",
    "print(f\"Recall: {recall_test}\")\n",
    "print(f\"f1: {f1_test}\")"
   ]
  },
  {
   "cell_type": "markdown",
   "id": "7a9931ec-bfe6-4749-989f-18014e60f524",
   "metadata": {
    "tags": []
   },
   "source": [
    "## Implementação do método Bagging"
   ]
  },
  {
   "cell_type": "code",
   "execution_count": 11,
   "id": "4d4a43a2-3526-4fd1-9e54-e0faf9ea9cc4",
   "metadata": {},
   "outputs": [
    {
     "name": "stdout",
     "output_type": "stream",
     "text": [
      "AUC train: 0.9894421190183363\n",
      "AUC val: 0.953480335218055\n",
      "AUC test: 0.9690335087704381\n"
     ]
    }
   ],
   "source": [
    "model_bg = BaggingClassifier(model_dtt).fit(X_train, y_train)\n",
    "\n",
    "prob_train = model_bg.predict_proba(X_train)[:, 1]\n",
    "prob_val = model_bg.predict_proba(X_val)[:, 1]\n",
    "prob_test = model_bg.predict_proba(X_test)[:, 1]\n",
    "print(f\"AUC train: {metrics.roc_auc_score(y_train, prob_train)}\")\n",
    "print(f\"AUC val: {metrics.roc_auc_score(y_val, prob_val)}\")\n",
    "print(f\"AUC test: {metrics.roc_auc_score(y_test, prob_test)}\")"
   ]
  },
  {
   "cell_type": "code",
   "execution_count": 12,
   "id": "e3895180-1339-4e47-8297-90646ddd6030",
   "metadata": {},
   "outputs": [
    {
     "name": "stdout",
     "output_type": "stream",
     "text": [
      "Matriz de confusão validação:\n",
      "\n"
     ]
    },
    {
     "data": {
      "image/png": "[encoded data removed]",
      "text/plain": [
       "<Figure size 576x432 with 1 Axes>"
      ]
     },
     "metadata": {
      "needs_background": "light"
     },
     "output_type": "display_data"
    },
    {
     "name": "stdout",
     "output_type": "stream",
     "text": [
      "Precisão: 1.0\n",
      "Recall: 0.0273972602739726\n",
      "f1: 0.05333333333333332\n",
      "\n",
      "---------------------------------------------------------\n",
      "\n",
      "Matriz de confusão teste:\n",
      "\n"
     ]
    },
    {
     "data": {
      "image/png": "[encoded data removed]",
      "text/plain": [
       "<Figure size 576x432 with 1 Axes>"
      ]
     },
     "metadata": {
      "needs_background": "light"
     },
     "output_type": "display_data"
    },
    {
     "name": "stdout",
     "output_type": "stream",
     "text": [
      "Precisão: 1.0\n",
      "Recall: 0.012048192771084338\n",
      "f1: 0.02380952380952381\n"
     ]
    }
   ],
   "source": [
    "# Matrizes de confusão e métricas para validação e teste com ponto de corte = 0,5\n",
    "pred_val = (model_bg.predict_proba(X_val)[:,1] >= 0.5).astype(bool)\n",
    "confusion_val = confusion_matrix(y_val, pred_val)\n",
    "print(f\"Matriz de confusão validação:\\n\")\n",
    "matriz_confusao(confusion_val)\n",
    "precision_val = precision_score(y_val, pred_val, average='binary')\n",
    "recall_val = recall_score(y_val, pred_val, average='binary')\n",
    "f1_val = f1_score(y_val, pred_val, average='binary')\n",
    "print(f\"Precisão: {precision_val}\")\n",
    "print(f\"Recall: {recall_val}\")\n",
    "print(f\"f1: {f1_val}\")\n",
    "\n",
    "print('\\n---------------------------------------------------------\\n')\n",
    "\n",
    "pred_test = (model_bg.predict_proba(X_test)[:,1] >= 0.5).astype(bool)\n",
    "confusion_test = confusion_matrix(y_test, pred_test)\n",
    "print(f\"Matriz de confusão teste:\\n\")\n",
    "matriz_confusao(confusion_test)\n",
    "precision_test = precision_score(y_test, pred_test, average='binary')\n",
    "recall_test = recall_score(y_test, pred_test, average='binary')\n",
    "f1_test = f1_score(y_test, pred_test, average='binary')\n",
    "print(f\"Precisão: {precision_test}\")\n",
    "print(f\"Recall: {recall_test}\")\n",
    "print(f\"f1: {f1_test}\")"
   ]
  },
  {
   "cell_type": "markdown",
   "id": "1f9818f0-da00-455b-ac5b-fafcdac74805",
   "metadata": {
    "tags": []
   },
   "source": [
    "## Implementação do método Imbalanced Bagging"
   ]
  },
  {
   "cell_type": "code",
   "execution_count": 13,
   "id": "52caae67-c48f-4ecf-b4ba-34ede732fc98",
   "metadata": {},
   "outputs": [
    {
     "name": "stdout",
     "output_type": "stream",
     "text": [
      "AUC train: 0.9743667629835644\n",
      "AUC val: 0.9604496452947557\n",
      "AUC test: 0.9584392616336906\n"
     ]
    }
   ],
   "source": [
    "model_ib = BalancedBaggingClassifier(model_dtt, random_state=42).fit(X_train, y_train)\n",
    "\n",
    "prob_train = model_ib.predict_proba(X_train)[:, 1]\n",
    "prob_val = model_ib.predict_proba(X_val)[:, 1]\n",
    "prob_test = model_ib.predict_proba(X_test)[:, 1]\n",
    "print(f\"AUC train: {metrics.roc_auc_score(y_train, prob_train)}\")\n",
    "print(f\"AUC val: {metrics.roc_auc_score(y_val, prob_val)}\")\n",
    "print(f\"AUC test: {metrics.roc_auc_score(y_test, prob_test)}\")"
   ]
  },
  {
   "cell_type": "code",
   "execution_count": 14,
   "id": "8951531b-fc79-45d2-b003-8fb0426f7a6c",
   "metadata": {},
   "outputs": [
    {
     "name": "stdout",
     "output_type": "stream",
     "text": [
      "Matriz de confusão validação:\n",
      "\n"
     ]
    },
    {
     "data": {
      "image/png": "[encoded data removed]",
      "text/plain": [
       "<Figure size 576x432 with 1 Axes>"
      ]
     },
     "metadata": {
      "needs_background": "light"
     },
     "output_type": "display_data"
    },
    {
     "name": "stdout",
     "output_type": "stream",
     "text": [
      "Precisão: 0.3\n",
      "Recall: 0.9041095890410958\n",
      "f1: 0.4505119453924915\n",
      "\n",
      "---------------------------------------------------------\n",
      "\n",
      "Matriz de confusão teste:\n",
      "\n"
     ]
    },
    {
     "data": {
      "image/png": "[encoded data removed]",
      "text/plain": [
       "<Figure size 576x432 with 1 Axes>"
      ]
     },
     "metadata": {
      "needs_background": "light"
     },
     "output_type": "display_data"
    },
    {
     "name": "stdout",
     "output_type": "stream",
     "text": [
      "Precisão: 0.3395348837209302\n",
      "Recall: 0.8795180722891566\n",
      "f1: 0.4899328859060403\n"
     ]
    }
   ],
   "source": [
    "# Matrizes de confusão e métricas para validação e teste com ponto de corte = 0,5\n",
    "pred_val = (model_ib.predict_proba(X_val)[:,1] >= 0.5).astype(bool)\n",
    "confusion_val = confusion_matrix(y_val, pred_val)\n",
    "print(f\"Matriz de confusão validação:\\n\")\n",
    "matriz_confusao(confusion_val)\n",
    "precision_val = precision_score(y_val, pred_val, average='binary')\n",
    "recall_val = recall_score(y_val, pred_val, average='binary')\n",
    "f1_val = f1_score(y_val, pred_val, average='binary')\n",
    "print(f\"Precisão: {precision_val}\")\n",
    "print(f\"Recall: {recall_val}\")\n",
    "print(f\"f1: {f1_val}\")\n",
    "\n",
    "print('\\n---------------------------------------------------------\\n')\n",
    "\n",
    "pred_test = (model_ib.predict_proba(X_test)[:,1] >= 0.5).astype(bool)\n",
    "confusion_test = confusion_matrix(y_test, pred_test)\n",
    "print(f\"Matriz de confusão teste:\\n\")\n",
    "matriz_confusao(confusion_test)\n",
    "precision_test = precision_score(y_test, pred_test, average='binary')\n",
    "recall_test = recall_score(y_test, pred_test, average='binary')\n",
    "f1_test = f1_score(y_test, pred_test, average='binary')\n",
    "print(f\"Precisão: {precision_test}\")\n",
    "print(f\"Recall: {recall_test}\")\n",
    "print(f\"f1: {f1_test}\")"
   ]
  },
  {
   "cell_type": "markdown",
   "id": "7832d0e8-3603-42c8-8545-fa2d43c2d739",
   "metadata": {
    "tags": []
   },
   "source": [
    "### Imbalanced Bagging Hyperparameters Tuning"
   ]
  },
  {
   "cell_type": "code",
   "execution_count": 15,
   "id": "e7a8413b-38bd-48c4-bafe-887e8b2ead1e",
   "metadata": {},
   "outputs": [
    {
     "name": "stdout",
     "output_type": "stream",
     "text": [
      "Fitting 15 folds for each of 30 candidates, totalling 450 fits\n",
      "Best params: {'warm_start': False, 'n_estimators': 500, 'max_samples': 0.9, 'bootstrap': True}\n",
      "Best score: 0.9700642670134437\n"
     ]
    }
   ],
   "source": [
    "params = {'n_estimators' :[10, 50, 100, 500, 1000],\n",
    "          'max_samples': arange(0.1, 1.1, 0.1),\n",
    "          'bootstrap': [False, True],\n",
    "          'warm_start': [False, True],\n",
    "          }\n",
    "\n",
    "cv = RepeatedStratifiedKFold(n_splits=5, n_repeats=3, random_state=42)\n",
    "random_search = RandomizedSearchCV(model_ib, params, n_iter=30, scoring='roc_auc', verbose=1, n_jobs=-1, cv=cv, random_state=42)\n",
    "result = random_search.fit(X_train, y_train)\n",
    "print(f\"Best params: {result.best_params_}\")\n",
    "print(f\"Best score: {result.best_score_}\")"
   ]
  },
  {
   "cell_type": "code",
   "execution_count": 16,
   "id": "df02c025-1d3a-4d56-9b50-881e1a229680",
   "metadata": {},
   "outputs": [
    {
     "name": "stdout",
     "output_type": "stream",
     "text": [
      "AUC train: 0.9999510845259392\n",
      "AUC val: 0.9896180318898733\n",
      "AUC test: 0.9938823749479215\n"
     ]
    }
   ],
   "source": [
    "model_ibt = BalancedBaggingClassifier(**result.best_params_, random_state=42).fit(X_train, y_train)\n",
    "\n",
    "prob_train = model_ibt.predict_proba(X_train)[:, 1]\n",
    "prob_val = model_ibt.predict_proba(X_val)[:, 1]\n",
    "prob_test = model_ibt.predict_proba(X_test)[:, 1]\n",
    "print(f\"AUC train: {metrics.roc_auc_score(y_train, prob_train)}\")\n",
    "print(f\"AUC val: {metrics.roc_auc_score(y_val, prob_val)}\")\n",
    "print(f\"AUC test: {metrics.roc_auc_score(y_test, prob_test)}\")"
   ]
  },
  {
   "cell_type": "code",
   "execution_count": 17,
   "id": "4fbaa495-ee9b-4bd7-a28d-3da526567985",
   "metadata": {},
   "outputs": [
    {
     "name": "stdout",
     "output_type": "stream",
     "text": [
      "Matriz de confusão validação:\n",
      "\n"
     ]
    },
    {
     "data": {
      "image/png": "[encoded data removed]",
      "text/plain": [
       "<Figure size 576x432 with 1 Axes>"
      ]
     },
     "metadata": {
      "needs_background": "light"
     },
     "output_type": "display_data"
    },
    {
     "name": "stdout",
     "output_type": "stream",
     "text": [
      "Precisão: 0.5701754385964912\n",
      "Recall: 0.8904109589041096\n",
      "f1: 0.6951871657754011\n",
      "\n",
      "---------------------------------------------------------\n",
      "\n",
      "Matriz de confusão teste:\n",
      "\n"
     ]
    },
    {
     "data": {
      "image/png": "[encoded data removed]",
      "text/plain": [
       "<Figure size 576x432 with 1 Axes>"
      ]
     },
     "metadata": {
      "needs_background": "light"
     },
     "output_type": "display_data"
    },
    {
     "name": "stdout",
     "output_type": "stream",
     "text": [
      "Precisão: 0.6611570247933884\n",
      "Recall: 0.963855421686747\n",
      "f1: 0.7843137254901961\n"
     ]
    }
   ],
   "source": [
    "# Matrizes de confusão e métricas para validação e teste com ponto de corte = 0,5\n",
    "pred_val = (model_ibt.predict_proba(X_val)[:,1] >= 0.5).astype(bool)\n",
    "confusion_val = confusion_matrix(y_val, pred_val)\n",
    "print(f\"Matriz de confusão validação:\\n\")\n",
    "matriz_confusao(confusion_val)\n",
    "precision_val = precision_score(y_val, pred_val, average='binary')\n",
    "recall_val = recall_score(y_val, pred_val, average='binary')\n",
    "f1_val = f1_score(y_val, pred_val, average='binary')\n",
    "print(f\"Precisão: {precision_val}\")\n",
    "print(f\"Recall: {recall_val}\")\n",
    "print(f\"f1: {f1_val}\")\n",
    "\n",
    "print('\\n---------------------------------------------------------\\n')\n",
    "\n",
    "pred_test = (model_ibt.predict_proba(X_test)[:,1] >= 0.5).astype(bool)\n",
    "confusion_test = confusion_matrix(y_test, pred_test)\n",
    "print(f\"Matriz de confusão teste:\\n\")\n",
    "matriz_confusao(confusion_test)\n",
    "precision_test = precision_score(y_test, pred_test, average='binary')\n",
    "recall_test = recall_score(y_test, pred_test, average='binary')\n",
    "f1_test = f1_score(y_test, pred_test, average='binary')\n",
    "print(f\"Precisão: {precision_test}\")\n",
    "print(f\"Recall: {recall_test}\")\n",
    "print(f\"f1: {f1_test}\")"
   ]
  },
  {
   "cell_type": "code",
   "execution_count": null,
   "id": "a9c23e54-c214-48e1-bb58-1e4ace618874",
   "metadata": {},
   "outputs": [],
   "source": []
  }
 ],
 "metadata": {
  "kernelspec": {
   "display_name": "Python 3 (ipykernel)",
   "language": "python",
   "name": "python3"
  },
  "language_info": {
   "codemirror_mode": {
    "name": "ipython",
    "version": 3
   },
   "file_extension": ".py",
   "mimetype": "text/x-python",
   "name": "python",
   "nbconvert_exporter": "python",
   "pygments_lexer": "ipython3",
   "version": "3.8.11"
  }
 },
 "nbformat": 4,
 "nbformat_minor": 5
}
