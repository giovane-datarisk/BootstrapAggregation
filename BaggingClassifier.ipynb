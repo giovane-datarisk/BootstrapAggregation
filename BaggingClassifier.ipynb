{
 "cells": [
  {
   "cell_type": "markdown",
   "id": "7b091a3b-4261-4203-b78b-118e494e4625",
   "metadata": {},
   "source": [
    "## Bibliotecas"
   ]
  },
  {
   "cell_type": "code",
   "execution_count": 1,
   "id": "cff42425-8556-482c-9085-397bcc6a037b",
   "metadata": {
    "tags": []
   },
   "outputs": [],
   "source": [
    "import pandas as pd\n",
    "import numpy as np\n",
    "from numpy import arange\n",
    "from sklearn.tree import DecisionTreeClassifier\n",
    "from sklearn.datasets import make_classification\n",
    "from sklearn.model_selection import train_test_split\n",
    "from sklearn.model_selection import cross_val_score\n",
    "from sklearn.model_selection import RepeatedStratifiedKFold\n",
    "from sklearn.model_selection import RandomizedSearchCV\n",
    "from sklearn.ensemble import BaggingClassifier\n",
    "from sklearn import metrics\n",
    "from sklearn.metrics import confusion_matrix\n",
    "from sklearn.metrics import plot_confusion_matrix\n",
    "from sklearn.metrics import precision_score\n",
    "from sklearn.metrics import recall_score\n",
    "from sklearn.metrics import f1_score\n",
    "from numpy import mean\n",
    "from numpy import std\n",
    "import matplotlib.pyplot as plt\n",
    "import seaborn as sns"
   ]
  },
  {
   "cell_type": "markdown",
   "id": "04d285c3-8b2b-42b7-933d-c2f55c3d81d4",
   "metadata": {
    "tags": []
   },
   "source": [
    "## Gerando Dataset para Classificação"
   ]
  },
  {
   "cell_type": "code",
   "execution_count": 2,
   "id": "6b192472-0bac-4d51-a298-7ff9758db40c",
   "metadata": {},
   "outputs": [],
   "source": [
    "X, y = make_classification(n_samples=10000, n_features=30, n_informative=25, n_redundant=5, random_state=42)"
   ]
  },
  {
   "cell_type": "code",
   "execution_count": 3,
   "id": "0a340f39-0ced-40f3-aaf3-5f6b31694926",
   "metadata": {},
   "outputs": [
    {
     "data": {
      "text/html": [
       "<div>\n",
       "<style scoped>\n",
       "    .dataframe tbody tr th:only-of-type {\n",
       "        vertical-align: middle;\n",
       "    }\n",
       "\n",
       "    .dataframe tbody tr th {\n",
       "        vertical-align: top;\n",
       "    }\n",
       "\n",
       "    .dataframe thead th {\n",
       "        text-align: right;\n",
       "    }\n",
       "</style>\n",
       "<table border=\"1\" class=\"dataframe\">\n",
       "  <thead>\n",
       "    <tr style=\"text-align: right;\">\n",
       "      <th></th>\n",
       "      <th>0</th>\n",
       "      <th>1</th>\n",
       "      <th>2</th>\n",
       "      <th>3</th>\n",
       "      <th>4</th>\n",
       "      <th>5</th>\n",
       "      <th>6</th>\n",
       "      <th>7</th>\n",
       "      <th>8</th>\n",
       "      <th>9</th>\n",
       "      <th>...</th>\n",
       "      <th>21</th>\n",
       "      <th>22</th>\n",
       "      <th>23</th>\n",
       "      <th>24</th>\n",
       "      <th>25</th>\n",
       "      <th>26</th>\n",
       "      <th>27</th>\n",
       "      <th>28</th>\n",
       "      <th>29</th>\n",
       "      <th>y</th>\n",
       "    </tr>\n",
       "  </thead>\n",
       "  <tbody>\n",
       "    <tr>\n",
       "      <th>0</th>\n",
       "      <td>0.926343</td>\n",
       "      <td>3.124495</td>\n",
       "      <td>-1.918351</td>\n",
       "      <td>-1.058314</td>\n",
       "      <td>-0.303747</td>\n",
       "      <td>1.580186</td>\n",
       "      <td>8.361782</td>\n",
       "      <td>2.093788</td>\n",
       "      <td>0.501135</td>\n",
       "      <td>-3.990690</td>\n",
       "      <td>...</td>\n",
       "      <td>-3.196933</td>\n",
       "      <td>6.021982</td>\n",
       "      <td>2.515730</td>\n",
       "      <td>2.495170</td>\n",
       "      <td>-1.461077</td>\n",
       "      <td>-1.846910</td>\n",
       "      <td>-4.733430</td>\n",
       "      <td>11.118485</td>\n",
       "      <td>-0.282274</td>\n",
       "      <td>1</td>\n",
       "    </tr>\n",
       "    <tr>\n",
       "      <th>1</th>\n",
       "      <td>1.072156</td>\n",
       "      <td>-3.490798</td>\n",
       "      <td>0.840129</td>\n",
       "      <td>-1.580111</td>\n",
       "      <td>-0.216611</td>\n",
       "      <td>3.895720</td>\n",
       "      <td>-5.630190</td>\n",
       "      <td>3.709025</td>\n",
       "      <td>-0.703357</td>\n",
       "      <td>0.826023</td>\n",
       "      <td>...</td>\n",
       "      <td>0.077329</td>\n",
       "      <td>7.078314</td>\n",
       "      <td>-0.565448</td>\n",
       "      <td>0.596319</td>\n",
       "      <td>-1.675626</td>\n",
       "      <td>0.406104</td>\n",
       "      <td>0.318508</td>\n",
       "      <td>1.329328</td>\n",
       "      <td>0.195242</td>\n",
       "      <td>1</td>\n",
       "    </tr>\n",
       "    <tr>\n",
       "      <th>2</th>\n",
       "      <td>-0.122597</td>\n",
       "      <td>2.147714</td>\n",
       "      <td>-4.069724</td>\n",
       "      <td>5.816493</td>\n",
       "      <td>1.847637</td>\n",
       "      <td>0.542255</td>\n",
       "      <td>-8.111436</td>\n",
       "      <td>-0.824926</td>\n",
       "      <td>0.852113</td>\n",
       "      <td>1.693525</td>\n",
       "      <td>...</td>\n",
       "      <td>-2.431855</td>\n",
       "      <td>16.861663</td>\n",
       "      <td>5.177710</td>\n",
       "      <td>2.389441</td>\n",
       "      <td>-2.293545</td>\n",
       "      <td>2.506572</td>\n",
       "      <td>-1.058877</td>\n",
       "      <td>3.916804</td>\n",
       "      <td>0.984796</td>\n",
       "      <td>1</td>\n",
       "    </tr>\n",
       "    <tr>\n",
       "      <th>3</th>\n",
       "      <td>-8.439504</td>\n",
       "      <td>-5.337016</td>\n",
       "      <td>-3.681090</td>\n",
       "      <td>1.161315</td>\n",
       "      <td>1.683201</td>\n",
       "      <td>-5.245999</td>\n",
       "      <td>-18.933035</td>\n",
       "      <td>2.321616</td>\n",
       "      <td>-0.644563</td>\n",
       "      <td>-2.841032</td>\n",
       "      <td>...</td>\n",
       "      <td>10.940914</td>\n",
       "      <td>-0.639524</td>\n",
       "      <td>1.262862</td>\n",
       "      <td>-3.028472</td>\n",
       "      <td>0.280963</td>\n",
       "      <td>2.510697</td>\n",
       "      <td>4.799146</td>\n",
       "      <td>-6.781649</td>\n",
       "      <td>0.798287</td>\n",
       "      <td>0</td>\n",
       "    </tr>\n",
       "    <tr>\n",
       "      <th>4</th>\n",
       "      <td>4.080413</td>\n",
       "      <td>2.439939</td>\n",
       "      <td>7.558384</td>\n",
       "      <td>0.644480</td>\n",
       "      <td>-2.568591</td>\n",
       "      <td>1.988423</td>\n",
       "      <td>3.062350</td>\n",
       "      <td>1.886305</td>\n",
       "      <td>1.338482</td>\n",
       "      <td>3.448783</td>\n",
       "      <td>...</td>\n",
       "      <td>1.381772</td>\n",
       "      <td>1.208406</td>\n",
       "      <td>2.913220</td>\n",
       "      <td>3.052760</td>\n",
       "      <td>-1.359694</td>\n",
       "      <td>3.516741</td>\n",
       "      <td>1.292222</td>\n",
       "      <td>7.643106</td>\n",
       "      <td>1.040815</td>\n",
       "      <td>0</td>\n",
       "    </tr>\n",
       "    <tr>\n",
       "      <th>...</th>\n",
       "      <td>...</td>\n",
       "      <td>...</td>\n",
       "      <td>...</td>\n",
       "      <td>...</td>\n",
       "      <td>...</td>\n",
       "      <td>...</td>\n",
       "      <td>...</td>\n",
       "      <td>...</td>\n",
       "      <td>...</td>\n",
       "      <td>...</td>\n",
       "      <td>...</td>\n",
       "      <td>...</td>\n",
       "      <td>...</td>\n",
       "      <td>...</td>\n",
       "      <td>...</td>\n",
       "      <td>...</td>\n",
       "      <td>...</td>\n",
       "      <td>...</td>\n",
       "      <td>...</td>\n",
       "      <td>...</td>\n",
       "      <td>...</td>\n",
       "    </tr>\n",
       "    <tr>\n",
       "      <th>9995</th>\n",
       "      <td>1.229771</td>\n",
       "      <td>1.538955</td>\n",
       "      <td>2.573280</td>\n",
       "      <td>2.223914</td>\n",
       "      <td>5.565209</td>\n",
       "      <td>-1.125652</td>\n",
       "      <td>-2.998027</td>\n",
       "      <td>-1.109359</td>\n",
       "      <td>-0.221969</td>\n",
       "      <td>-0.707594</td>\n",
       "      <td>...</td>\n",
       "      <td>5.513774</td>\n",
       "      <td>-3.491647</td>\n",
       "      <td>1.172255</td>\n",
       "      <td>-1.226774</td>\n",
       "      <td>-2.197788</td>\n",
       "      <td>1.297508</td>\n",
       "      <td>2.003710</td>\n",
       "      <td>-0.879247</td>\n",
       "      <td>-1.350472</td>\n",
       "      <td>0</td>\n",
       "    </tr>\n",
       "    <tr>\n",
       "      <th>9996</th>\n",
       "      <td>0.959462</td>\n",
       "      <td>-5.521008</td>\n",
       "      <td>0.475564</td>\n",
       "      <td>0.689206</td>\n",
       "      <td>2.263892</td>\n",
       "      <td>0.537646</td>\n",
       "      <td>-7.916083</td>\n",
       "      <td>3.566412</td>\n",
       "      <td>-0.055864</td>\n",
       "      <td>2.445479</td>\n",
       "      <td>...</td>\n",
       "      <td>-0.083748</td>\n",
       "      <td>11.002780</td>\n",
       "      <td>2.391822</td>\n",
       "      <td>-0.139395</td>\n",
       "      <td>0.235766</td>\n",
       "      <td>-1.603738</td>\n",
       "      <td>2.024204</td>\n",
       "      <td>8.874483</td>\n",
       "      <td>-1.826346</td>\n",
       "      <td>1</td>\n",
       "    </tr>\n",
       "    <tr>\n",
       "      <th>9997</th>\n",
       "      <td>-4.589021</td>\n",
       "      <td>-2.636822</td>\n",
       "      <td>4.829869</td>\n",
       "      <td>-0.848652</td>\n",
       "      <td>-0.290351</td>\n",
       "      <td>1.783947</td>\n",
       "      <td>-11.318028</td>\n",
       "      <td>-1.446492</td>\n",
       "      <td>1.573009</td>\n",
       "      <td>6.456723</td>\n",
       "      <td>...</td>\n",
       "      <td>7.215456</td>\n",
       "      <td>-5.579045</td>\n",
       "      <td>5.360206</td>\n",
       "      <td>3.786132</td>\n",
       "      <td>-2.114001</td>\n",
       "      <td>5.653961</td>\n",
       "      <td>2.521582</td>\n",
       "      <td>-11.286844</td>\n",
       "      <td>-2.740187</td>\n",
       "      <td>0</td>\n",
       "    </tr>\n",
       "    <tr>\n",
       "      <th>9998</th>\n",
       "      <td>-7.285724</td>\n",
       "      <td>-2.038068</td>\n",
       "      <td>-1.592733</td>\n",
       "      <td>5.334416</td>\n",
       "      <td>-1.635318</td>\n",
       "      <td>3.828863</td>\n",
       "      <td>1.033022</td>\n",
       "      <td>2.852125</td>\n",
       "      <td>1.984172</td>\n",
       "      <td>-3.454368</td>\n",
       "      <td>...</td>\n",
       "      <td>-3.936403</td>\n",
       "      <td>26.605478</td>\n",
       "      <td>4.514521</td>\n",
       "      <td>4.174008</td>\n",
       "      <td>0.875458</td>\n",
       "      <td>0.444917</td>\n",
       "      <td>-2.321442</td>\n",
       "      <td>8.827433</td>\n",
       "      <td>-3.796116</td>\n",
       "      <td>1</td>\n",
       "    </tr>\n",
       "    <tr>\n",
       "      <th>9999</th>\n",
       "      <td>4.165341</td>\n",
       "      <td>-3.787488</td>\n",
       "      <td>2.895750</td>\n",
       "      <td>-0.259680</td>\n",
       "      <td>1.936659</td>\n",
       "      <td>2.910618</td>\n",
       "      <td>-10.147042</td>\n",
       "      <td>1.155064</td>\n",
       "      <td>-4.660462</td>\n",
       "      <td>-0.296733</td>\n",
       "      <td>...</td>\n",
       "      <td>-0.286481</td>\n",
       "      <td>11.185637</td>\n",
       "      <td>8.468583</td>\n",
       "      <td>-0.797173</td>\n",
       "      <td>4.797419</td>\n",
       "      <td>-0.718609</td>\n",
       "      <td>1.210124</td>\n",
       "      <td>11.841319</td>\n",
       "      <td>0.383997</td>\n",
       "      <td>1</td>\n",
       "    </tr>\n",
       "  </tbody>\n",
       "</table>\n",
       "<p>10000 rows × 31 columns</p>\n",
       "</div>"
      ],
      "text/plain": [
       "             0         1         2         3         4         5          6  \\\n",
       "0     0.926343  3.124495 -1.918351 -1.058314 -0.303747  1.580186   8.361782   \n",
       "1     1.072156 -3.490798  0.840129 -1.580111 -0.216611  3.895720  -5.630190   \n",
       "2    -0.122597  2.147714 -4.069724  5.816493  1.847637  0.542255  -8.111436   \n",
       "3    -8.439504 -5.337016 -3.681090  1.161315  1.683201 -5.245999 -18.933035   \n",
       "4     4.080413  2.439939  7.558384  0.644480 -2.568591  1.988423   3.062350   \n",
       "...        ...       ...       ...       ...       ...       ...        ...   \n",
       "9995  1.229771  1.538955  2.573280  2.223914  5.565209 -1.125652  -2.998027   \n",
       "9996  0.959462 -5.521008  0.475564  0.689206  2.263892  0.537646  -7.916083   \n",
       "9997 -4.589021 -2.636822  4.829869 -0.848652 -0.290351  1.783947 -11.318028   \n",
       "9998 -7.285724 -2.038068 -1.592733  5.334416 -1.635318  3.828863   1.033022   \n",
       "9999  4.165341 -3.787488  2.895750 -0.259680  1.936659  2.910618 -10.147042   \n",
       "\n",
       "             7         8         9  ...         21         22        23  \\\n",
       "0     2.093788  0.501135 -3.990690  ...  -3.196933   6.021982  2.515730   \n",
       "1     3.709025 -0.703357  0.826023  ...   0.077329   7.078314 -0.565448   \n",
       "2    -0.824926  0.852113  1.693525  ...  -2.431855  16.861663  5.177710   \n",
       "3     2.321616 -0.644563 -2.841032  ...  10.940914  -0.639524  1.262862   \n",
       "4     1.886305  1.338482  3.448783  ...   1.381772   1.208406  2.913220   \n",
       "...        ...       ...       ...  ...        ...        ...       ...   \n",
       "9995 -1.109359 -0.221969 -0.707594  ...   5.513774  -3.491647  1.172255   \n",
       "9996  3.566412 -0.055864  2.445479  ...  -0.083748  11.002780  2.391822   \n",
       "9997 -1.446492  1.573009  6.456723  ...   7.215456  -5.579045  5.360206   \n",
       "9998  2.852125  1.984172 -3.454368  ...  -3.936403  26.605478  4.514521   \n",
       "9999  1.155064 -4.660462 -0.296733  ...  -0.286481  11.185637  8.468583   \n",
       "\n",
       "            24        25        26        27         28        29  y  \n",
       "0     2.495170 -1.461077 -1.846910 -4.733430  11.118485 -0.282274  1  \n",
       "1     0.596319 -1.675626  0.406104  0.318508   1.329328  0.195242  1  \n",
       "2     2.389441 -2.293545  2.506572 -1.058877   3.916804  0.984796  1  \n",
       "3    -3.028472  0.280963  2.510697  4.799146  -6.781649  0.798287  0  \n",
       "4     3.052760 -1.359694  3.516741  1.292222   7.643106  1.040815  0  \n",
       "...        ...       ...       ...       ...        ...       ... ..  \n",
       "9995 -1.226774 -2.197788  1.297508  2.003710  -0.879247 -1.350472  0  \n",
       "9996 -0.139395  0.235766 -1.603738  2.024204   8.874483 -1.826346  1  \n",
       "9997  3.786132 -2.114001  5.653961  2.521582 -11.286844 -2.740187  0  \n",
       "9998  4.174008  0.875458  0.444917 -2.321442   8.827433 -3.796116  1  \n",
       "9999 -0.797173  4.797419 -0.718609  1.210124  11.841319  0.383997  1  \n",
       "\n",
       "[10000 rows x 31 columns]"
      ]
     },
     "execution_count": 3,
     "metadata": {},
     "output_type": "execute_result"
    }
   ],
   "source": [
    "# Cria um dataframe para melhor visualizar os dados e fazer a contagem das classes target\n",
    "dataset = pd.DataFrame(X)\n",
    "dataset['y'] = y\n",
    "dataset"
   ]
  },
  {
   "cell_type": "code",
   "execution_count": 4,
   "id": "48820339-409c-4438-8c49-9368c1b0f8c2",
   "metadata": {},
   "outputs": [
    {
     "data": {
      "text/plain": [
       "0    0.5004\n",
       "1    0.4996\n",
       "Name: y, dtype: float64"
      ]
     },
     "execution_count": 4,
     "metadata": {},
     "output_type": "execute_result"
    }
   ],
   "source": [
    "dataset['y'].value_counts(True)"
   ]
  },
  {
   "cell_type": "markdown",
   "id": "2ea6f924-73e1-4bcf-99e6-05a6cfb1f317",
   "metadata": {},
   "source": [
    "### Partição treino/validação/teste"
   ]
  },
  {
   "cell_type": "code",
   "execution_count": 5,
   "id": "834abc61-0061-42f0-b887-7c38ec8a65a2",
   "metadata": {},
   "outputs": [],
   "source": [
    "X_train, X_, y_train, y_ = train_test_split(X, y, random_state=42, test_size=0.3)\n",
    "X_val, X_test, y_val, y_test = train_test_split(X_, y_, random_state=42, test_size=0.5)"
   ]
  },
  {
   "cell_type": "code",
   "execution_count": 6,
   "id": "d9c854d3-0e82-4463-b405-fc54468933d6",
   "metadata": {},
   "outputs": [
    {
     "name": "stdout",
     "output_type": "stream",
     "text": [
      "(7000, 30)\n",
      "(1500, 30)\n",
      "(1500, 30)\n"
     ]
    }
   ],
   "source": [
    "print(X_train.shape)\n",
    "print(X_val.shape)\n",
    "print(X_test.shape)"
   ]
  },
  {
   "cell_type": "markdown",
   "id": "126ea15c-9956-4fc0-a2d6-af526d85c7e5",
   "metadata": {},
   "source": [
    "## Implementando Algoritmo de Árvore de Decisão"
   ]
  },
  {
   "cell_type": "markdown",
   "id": "b75d284d-8971-45c5-be56-17b69c587410",
   "metadata": {},
   "source": [
    "### Modelo default"
   ]
  },
  {
   "cell_type": "code",
   "execution_count": 7,
   "id": "3f905f3f-1067-44df-9181-c6a4252b8f6c",
   "metadata": {},
   "outputs": [
    {
     "name": "stdout",
     "output_type": "stream",
     "text": [
      "AUC, desvio padrão: 0.8074961641179897, 0.013091355347428484\n"
     ]
    }
   ],
   "source": [
    "# Definição de um modelo de árvore de decisão default\n",
    "model = DecisionTreeClassifier(random_state=42)\n",
    "\n",
    "# Definição do cross-validation usando RepeatedStratifiiedKFold\n",
    "cv = RepeatedStratifiedKFold(n_splits=10, n_repeats=3, random_state=42)\n",
    "\n",
    "# Verificando as métricas obtidas em diferentes partições e o desvio padrão\n",
    "n_scores = cross_val_score(model, X, y, scoring='roc_auc', cv=cv, n_jobs=-1, error_score='raise')\n",
    "print(f'AUC, desvio padrão: {mean(n_scores)}, {std(n_scores)}')"
   ]
  },
  {
   "cell_type": "code",
   "execution_count": 8,
   "id": "a0f1e296-f892-4156-aff4-6286264314e2",
   "metadata": {},
   "outputs": [
    {
     "name": "stdout",
     "output_type": "stream",
     "text": [
      "AUC train: 1.0\n",
      "AUC val: 0.786875976807327\n",
      "AUC test: 0.8073203253477932\n"
     ]
    }
   ],
   "source": [
    "# Ajuste do modelo aos dados de treinamento\n",
    "model.fit(X_train, y_train)\n",
    "\n",
    "# Métricas de desempenho nos conjuntos de validação e teste\n",
    "prob_train = model.predict_proba(X_train)[:, 1]\n",
    "prob_val = model.predict_proba(X_val)[:, 1]\n",
    "prob_test = model.predict_proba(X_test)[:, 1]\n",
    "print(f\"AUC train: {metrics.roc_auc_score(y_train, prob_train)}\")\n",
    "print(f\"AUC val: {metrics.roc_auc_score(y_val, prob_val)}\")\n",
    "print(f\"AUC test: {metrics.roc_auc_score(y_test, prob_test)}\")"
   ]
  },
  {
   "cell_type": "code",
   "execution_count": 9,
   "id": "7f572dc1-5854-4515-a734-592501129fa6",
   "metadata": {},
   "outputs": [
    {
     "name": "stdout",
     "output_type": "stream",
     "text": [
      "Matriz de confusão validação:\n",
      "\n"
     ]
    },
    {
     "data": {
      "image/png": "[encoded data removed]",
      "text/plain": [
       "<Figure size 576x432 with 1 Axes>"
      ]
     },
     "metadata": {
      "needs_background": "light"
     },
     "output_type": "display_data"
    },
    {
     "name": "stdout",
     "output_type": "stream",
     "text": [
      "Precisão: 0.8010973936899863\n",
      "Recall: 0.769433465085639\n",
      "f1: 0.7849462365591398\n",
      "\n",
      "---------------------------------------------------------\n",
      "\n",
      "Matriz de confusão teste:\n",
      "\n"
     ]
    },
    {
     "data": {
      "image/png": "[encoded data removed]",
      "text/plain": [
       "<Figure size 576x432 with 1 Axes>"
      ]
     },
     "metadata": {
      "needs_background": "light"
     },
     "output_type": "display_data"
    },
    {
     "name": "stdout",
     "output_type": "stream",
     "text": [
      "Precisão: 0.8082010582010583\n",
      "Recall: 0.8092715231788079\n",
      "f1: 0.8087359364659166\n"
     ]
    }
   ],
   "source": [
    "# Função para plot da matriz de confusão\n",
    "def matriz_confusao(confusion):\n",
    "    group_names = ['TN','FP','FN','TP']\n",
    "    group_counts = [\"{0:0.0f}\".format(value) for value in confusion.flatten()]\n",
    "    labels = [f\"{v1}\\n{v2}\" for v1, v2 in zip(group_names,group_counts)]\n",
    "    labels = np.asarray(labels).reshape(2,2)\n",
    "    plt.figure(figsize=(8,6))\n",
    "    cmap = sns.diverging_palette(250, 210, l=55, as_cmap=True)\n",
    "    sns.heatmap(confusion, annot=labels, fmt='', cmap=cmap, cbar=False, linecolor='black', linewidths=1.0)\n",
    "    plt.ylabel('True label')\n",
    "    plt.xlabel('Predicted label')\n",
    "    plt.rcParams.update({'font.size': 18})\n",
    "    return plt.show()\n",
    "\n",
    "# Matrizes de confusão e métricas para validação e teste com ponto de corte = 0,5\n",
    "pred_val = (model.predict_proba(X_val)[:,1] >= 0.5).astype(bool)\n",
    "confusion_val = confusion_matrix(y_val, pred_val)\n",
    "print(f\"Matriz de confusão validação:\\n\")\n",
    "matriz_confusao(confusion_val)\n",
    "precision_val = precision_score(y_val, pred_val, average='binary')\n",
    "recall_val = recall_score(y_val, pred_val, average='binary')\n",
    "f1_val = f1_score(y_val, pred_val, average='binary')\n",
    "print(f\"Precisão: {precision_val}\")\n",
    "print(f\"Recall: {recall_val}\")\n",
    "print(f\"f1: {f1_val}\")\n",
    "\n",
    "print('\\n---------------------------------------------------------\\n')\n",
    "\n",
    "pred_test = (model.predict_proba(X_test)[:,1] >= 0.5).astype(bool)\n",
    "confusion_test = confusion_matrix(y_test, pred_test)\n",
    "print(f\"Matriz de confusão teste:\\n\")\n",
    "matriz_confusao(confusion_test)\n",
    "precision_test = precision_score(y_test, pred_test, average='binary')\n",
    "recall_test = recall_score(y_test, pred_test, average='binary')\n",
    "f1_test = f1_score(y_test, pred_test, average='binary')\n",
    "print(f\"Precisão: {precision_test}\")\n",
    "print(f\"Recall: {recall_test}\")\n",
    "print(f\"f1: {f1_test}\")"
   ]
  },
  {
   "cell_type": "markdown",
   "id": "1d850d79-fd39-44de-9e72-693e14756e16",
   "metadata": {},
   "source": [
    "### Hyperparameters Tuning"
   ]
  },
  {
   "cell_type": "code",
   "execution_count": 10,
   "id": "3faa40af-45f8-4ee6-9a3b-e74f31a02179",
   "metadata": {},
   "outputs": [
    {
     "name": "stdout",
     "output_type": "stream",
     "text": [
      "Fitting 30 folds for each of 5000 candidates, totalling 150000 fits\n",
      "Best params: {'splitter': 'best', 'min_samples_leaf': 22, 'max_features': 'auto', 'max_depth': 14, 'criterion': 'gini', 'ccp_alpha': 0}\n",
      "Best score: 0.8499974447803373\n"
     ]
    }
   ],
   "source": [
    "# Parâmetros para tunning\n",
    "params = {'criterion' :['gini', 'entropy'],\n",
    "         'splitter': ['best', 'random'],\n",
    "         'max_features': ['auto', 'sqrt', 'log2'],\n",
    "         'ccp_alpha': [0, 0.1, 0.01, 0.001],\n",
    "         'max_depth' : range(2, 102, 2),\n",
    "         'min_samples_leaf': range(2, 102, 2),\n",
    "         }\n",
    "\n",
    "# Definição do cross-validation\n",
    "cv = RepeatedStratifiedKFold(n_splits=10, n_repeats=3, random_state=42)\n",
    "\n",
    "# Busca dos parâmetros usando RandomizedSearchCV\n",
    "random_search = RandomizedSearchCV(model, params, n_iter=5000, scoring='roc_auc', verbose=1, n_jobs=-1, cv=cv, random_state=42)\n",
    "result = random_search.fit(X_train, y_train)\n",
    "print(f\"Best params: {result.best_params_}\")\n",
    "print(f\"Best score: {result.best_score_}\")"
   ]
  },
  {
   "cell_type": "code",
   "execution_count": 11,
   "id": "c6be061c-2de0-44a7-981d-a500cc99eed7",
   "metadata": {
    "tags": []
   },
   "outputs": [
    {
     "name": "stdout",
     "output_type": "stream",
     "text": [
      "AUC train: 0.9220622243396478\n",
      "AUC val: 0.8354029646935826\n",
      "AUC test: 0.8627236766078493\n"
     ]
    }
   ],
   "source": [
    "# Modelo com os melhores parâmetros\n",
    "model_dtt = DecisionTreeClassifier(**result.best_params_, random_state=42).fit(X_train, y_train)\n",
    "\n",
    "# Métricas de desempenho nos conjuntos de validação e teste\n",
    "prob_train = model_dtt.predict_proba(X_train)[:, 1]\n",
    "prob_val = model_dtt.predict_proba(X_val)[:, 1]\n",
    "prob_test = model_dtt.predict_proba(X_test)[:, 1]\n",
    "print(f\"AUC train: {metrics.roc_auc_score(y_train, prob_train)}\")\n",
    "print(f\"AUC val: {metrics.roc_auc_score(y_val, prob_val)}\")\n",
    "print(f\"AUC test: {metrics.roc_auc_score(y_test, prob_test)}\")"
   ]
  },
  {
   "cell_type": "code",
   "execution_count": 12,
   "id": "af21a4c6-c3be-4f96-ba99-efc26ef6561d",
   "metadata": {},
   "outputs": [
    {
     "name": "stdout",
     "output_type": "stream",
     "text": [
      "Matriz de confusão validação:\n",
      "\n"
     ]
    },
    {
     "data": {
      "image/png": "[encoded data removed]",
      "text/plain": [
       "<Figure size 576x432 with 1 Axes>"
      ]
     },
     "metadata": {
      "needs_background": "light"
     },
     "output_type": "display_data"
    },
    {
     "name": "stdout",
     "output_type": "stream",
     "text": [
      "Precisão: 0.7446540880503144\n",
      "Recall: 0.7799736495388669\n",
      "f1: 0.7619047619047618\n",
      "\n",
      "---------------------------------------------------------\n",
      "\n",
      "Matriz de confusão teste:\n",
      "\n"
     ]
    },
    {
     "data": {
      "image/png": "[encoded data removed]",
      "text/plain": [
       "<Figure size 576x432 with 1 Axes>"
      ]
     },
     "metadata": {
      "needs_background": "light"
     },
     "output_type": "display_data"
    },
    {
     "name": "stdout",
     "output_type": "stream",
     "text": [
      "Precisão: 0.7859973579920739\n",
      "Recall: 0.7880794701986755\n",
      "f1: 0.787037037037037\n"
     ]
    }
   ],
   "source": [
    "# Matrizes de confusão e métricas para validação e teste com ponto de corte = 0,5\n",
    "pred_val = (model_dtt.predict_proba(X_val)[:,1] >= 0.5).astype(bool)\n",
    "confusion_val = confusion_matrix(y_val, pred_val)\n",
    "print(f\"Matriz de confusão validação:\\n\")\n",
    "matriz_confusao(confusion_val)\n",
    "precision_val = precision_score(y_val, pred_val, average='binary')\n",
    "recall_val = recall_score(y_val, pred_val, average='binary')\n",
    "f1_val = f1_score(y_val, pred_val, average='binary')\n",
    "print(f\"Precisão: {precision_val}\")\n",
    "print(f\"Recall: {recall_val}\")\n",
    "print(f\"f1: {f1_val}\")\n",
    "\n",
    "print('\\n---------------------------------------------------------\\n')\n",
    "\n",
    "pred_test = (model_dtt.predict_proba(X_test)[:,1] >= 0.5).astype(bool)\n",
    "confusion_test = confusion_matrix(y_test, pred_test)\n",
    "print(f\"Matriz de confusão teste:\\n\")\n",
    "matriz_confusao(confusion_test)\n",
    "precision_test = precision_score(y_test, pred_test, average='binary')\n",
    "recall_test = recall_score(y_test, pred_test, average='binary')\n",
    "f1_test = f1_score(y_test, pred_test, average='binary')\n",
    "print(f\"Precisão: {precision_test}\")\n",
    "print(f\"Recall: {recall_test}\")\n",
    "print(f\"f1: {f1_test}\")"
   ]
  },
  {
   "cell_type": "markdown",
   "id": "ea53506f-0013-41bc-aaf6-d512e47c681c",
   "metadata": {
    "tags": []
   },
   "source": [
    "## Implementação do método Bagging"
   ]
  },
  {
   "cell_type": "code",
   "execution_count": 13,
   "id": "5146aba1-5664-473b-946f-441e209127f6",
   "metadata": {},
   "outputs": [
    {
     "name": "stdout",
     "output_type": "stream",
     "text": [
      "AUC, std: 0.9498236524396765, 0.0062056283120256765\n"
     ]
    }
   ],
   "source": [
    "# Definindo modelo com bagging considerando o estimator o modelo com tunning\n",
    "model_bg = BaggingClassifier(model_dtt)\n",
    "\n",
    "# Definição do cross-validation usando RepeatedStratifiiedKFold\n",
    "cv = RepeatedStratifiedKFold(n_splits=10, n_repeats=3, random_state=42)\n",
    "n_scores = cross_val_score(model_bg, X, y, scoring='roc_auc', cv=cv, n_jobs=-1, error_score='raise')\n",
    "\n",
    "# Verificando as métricas obtidas em diferentes partições e o desvio padrão\n",
    "print(f'AUC, std: {mean(n_scores)}, {std(n_scores)}')"
   ]
  },
  {
   "cell_type": "code",
   "execution_count": 14,
   "id": "579d3243-f6b7-4ea0-bb5e-5c20591cc6b4",
   "metadata": {},
   "outputs": [
    {
     "name": "stdout",
     "output_type": "stream",
     "text": [
      "AUC train: 0.9785826172055491\n",
      "AUC val: 0.950015913402641\n",
      "AUC test: 0.9469451975643361\n"
     ]
    }
   ],
   "source": [
    "# Ajuste do modelo bagging\n",
    "model_bg.fit(X_train, y_train)\n",
    "\n",
    "# Métricas de desempenho nos conjuntos de validação e teste\n",
    "prob_train = model_bg.predict_proba(X_train)[:, 1]\n",
    "prob_val = model_bg.predict_proba(X_val)[:, 1]\n",
    "prob_test = model_bg.predict_proba(X_test)[:, 1]\n",
    "print(f\"AUC train: {metrics.roc_auc_score(y_train, prob_train)}\")\n",
    "print(f\"AUC val: {metrics.roc_auc_score(y_val, prob_val)}\")\n",
    "print(f\"AUC test: {metrics.roc_auc_score(y_test, prob_test)}\")"
   ]
  },
  {
   "cell_type": "code",
   "execution_count": 15,
   "id": "84fbbba0-bcb3-48a9-8cff-7395625ca549",
   "metadata": {},
   "outputs": [
    {
     "name": "stdout",
     "output_type": "stream",
     "text": [
      "Matriz de confusão validação:\n",
      "\n"
     ]
    },
    {
     "data": {
      "image/png": "[encoded data removed]",
      "text/plain": [
       "<Figure size 576x432 with 1 Axes>"
      ]
     },
     "metadata": {
      "needs_background": "light"
     },
     "output_type": "display_data"
    },
    {
     "name": "stdout",
     "output_type": "stream",
     "text": [
      "Precisão: 0.8759791122715405\n",
      "Recall: 0.8840579710144928\n",
      "f1: 0.88\n",
      "\n",
      "---------------------------------------------------------\n",
      "\n",
      "Matriz de confusão teste:\n",
      "\n"
     ]
    },
    {
     "data": {
      "image/png": "[encoded data removed]",
      "text/plain": [
       "<Figure size 576x432 with 1 Axes>"
      ]
     },
     "metadata": {
      "needs_background": "light"
     },
     "output_type": "display_data"
    },
    {
     "name": "stdout",
     "output_type": "stream",
     "text": [
      "Precisão: 0.8682476943346509\n",
      "Recall: 0.8728476821192053\n",
      "f1: 0.8705416116248348\n"
     ]
    }
   ],
   "source": [
    "# Matrizes de confusão e métricas para validação e teste com ponto de corte = 0,5\n",
    "pred_val = (model_bg.predict_proba(X_val)[:,1] >= 0.5).astype(bool)\n",
    "confusion_val = confusion_matrix(y_val, pred_val)\n",
    "print(f\"Matriz de confusão validação:\\n\")\n",
    "matriz_confusao(confusion_val)\n",
    "precision_val = precision_score(y_val, pred_val, average='binary')\n",
    "recall_val = recall_score(y_val, pred_val, average='binary')\n",
    "f1_val = f1_score(y_val, pred_val, average='binary')\n",
    "print(f\"Precisão: {precision_val}\")\n",
    "print(f\"Recall: {recall_val}\")\n",
    "print(f\"f1: {f1_val}\")\n",
    "\n",
    "print('\\n---------------------------------------------------------\\n')\n",
    "\n",
    "pred_test = (model_bg.predict_proba(X_test)[:,1] >= 0.5).astype(bool)\n",
    "confusion_test = confusion_matrix(y_test, pred_test)\n",
    "print(f\"Matriz de confusão teste:\\n\")\n",
    "matriz_confusao(confusion_test)\n",
    "precision_test = precision_score(y_test, pred_test, average='binary')\n",
    "recall_test = recall_score(y_test, pred_test, average='binary')\n",
    "f1_test = f1_score(y_test, pred_test, average='binary')\n",
    "print(f\"Precisão: {precision_test}\")\n",
    "print(f\"Recall: {recall_test}\")\n",
    "print(f\"f1: {f1_test}\")"
   ]
  },
  {
   "cell_type": "markdown",
   "id": "2d9dbe21-a412-4cf5-89e7-c76c3bcd9b05",
   "metadata": {
    "tags": []
   },
   "source": [
    "### Bagging Hyperparameters Tuning"
   ]
  },
  {
   "cell_type": "markdown",
   "id": "d47dac97-ec64-41d1-9967-211e3b4f89fc",
   "metadata": {
    "tags": []
   },
   "source": [
    "#### Variação do desempenho e variância do método de bagging de acordo com o número de árvores"
   ]
  },
  {
   "cell_type": "code",
   "execution_count": 16,
   "id": "bb6a5fac-47a8-4c34-86c3-3d363df65b03",
   "metadata": {},
   "outputs": [
    {
     "name": "stdout",
     "output_type": "stream",
     "text": [
      "('10', 0.948850648651928, 0.0077281037502105465)\n",
      "('50', 0.9666627430192385, 0.006453458660455767)\n",
      "('100', 0.9687202135552544, 0.006717581499703433)\n",
      "('500', 0.9698682815029926, 0.006473688698578893)\n",
      "('1000', 0.9702925490339295, 0.006346927725982877)\n",
      "('5000', 0.9704101492427302, 0.006415698984393318)\n"
     ]
    },
    {
     "data": {
      "text/plain": [
       "Text(0.5, 0, 'Número de árvores')"
      ]
     },
     "execution_count": 16,
     "metadata": {},
     "output_type": "execute_result"
    },
    {
     "data": {
      "image/png": "[encoded data removed]",
      "text/plain": [
       "<Figure size 576x432 with 1 Axes>"
      ]
     },
     "metadata": {
      "needs_background": "light"
     },
     "output_type": "display_data"
    }
   ],
   "source": [
    "# Função para obter uma lista de modelos com diferentes qtds de arvores\n",
    "def get_models():\n",
    "    models = dict()\n",
    "    # Define o número de árvores a serem consideradas no modelo\n",
    "    n_trees = [10, 50, 100, 500, 500, 1000, 5000]\n",
    "    for n in n_trees:\n",
    "        models[str(n)] = BaggingClassifier(n_estimators=n)\n",
    "    return models\n",
    "\n",
    "# Função para avaliar um modelo usando cross-validation\n",
    "def evaluate_model(model, X, y):\n",
    "    # define the evaluation procedure\n",
    "    cv = RepeatedStratifiedKFold(n_splits=10, n_repeats=3, random_state=1)\n",
    "    # evaluate the model and collect the results\n",
    "    scores = cross_val_score(model, X, y, scoring='roc_auc', cv=cv, n_jobs=-1)\n",
    "    return scores\n",
    "\n",
    "models = get_models()\n",
    "\n",
    "# Listas para armazenar os resultados\n",
    "results = []\n",
    "names = []\n",
    "\n",
    "for name, model in models.items():\n",
    "    scores = evaluate_model(model, X, y)\n",
    "    results.append(scores)\n",
    "    names.append(name)\n",
    "    print(f'{name, mean(scores), std(scores)}')\n",
    "    \n",
    "# Visualização da avaliação dos modelos variando o número de árvores\n",
    "plt.figure(figsize=(8,6))\n",
    "sns.boxplot(data=results)\n",
    "plt.xticks(range(6), names)\n",
    "plt.ylabel('AUC')\n",
    "plt.xlabel('Número de árvores')"
   ]
  },
  {
   "cell_type": "markdown",
   "id": "db4b94f2-d917-4bc4-920f-51fa8b4991b4",
   "metadata": {},
   "source": [
    "#### Variação do desempenho e variância do método de bagging de acordo com o quantidade de samples"
   ]
  },
  {
   "cell_type": "code",
   "execution_count": 17,
   "id": "ca18de5a-8aa3-4220-947a-87f1428095d8",
   "metadata": {
    "tags": []
   },
   "outputs": [
    {
     "name": "stdout",
     "output_type": "stream",
     "text": [
      "('0.1', 0.9112557622314624, 0.0116784292689034)\n",
      "('0.2', 0.927067775028075, 0.008348175020867286)\n",
      "('0.3', 0.9352722149874816, 0.007605398820300605)\n",
      "('0.4', 0.939683084745485, 0.008621979180783609)\n",
      "('0.5', 0.9414739528555861, 0.0075989780934380335)\n",
      "('0.6', 0.9431404544652545, 0.00847920385824241)\n",
      "('0.7', 0.9463037239213572, 0.006855152817631992)\n",
      "('0.8', 0.9463699227927228, 0.008596823555384686)\n",
      "('0.9', 0.9472591573849239, 0.006562350129357358)\n",
      "('1.0', 0.9469980904864905, 0.007345983345481466)\n"
     ]
    },
    {
     "data": {
      "text/plain": [
       "Text(0.5, 0, 'Número de amostras')"
      ]
     },
     "execution_count": 17,
     "metadata": {},
     "output_type": "execute_result"
    },
    {
     "data": {
      "image/png": "[encoded data removed]",
      "text/plain": [
       "<Figure size 576x432 with 1 Axes>"
      ]
     },
     "metadata": {
      "needs_background": "light"
     },
     "output_type": "display_data"
    }
   ],
   "source": [
    "# Função para obter uma lista de modelos com diferentes qtds de amostras\n",
    "def get_models():\n",
    "    models = dict()\n",
    "    # Varia a quantidade de amostras de 10% a 100% dos exemplos\n",
    "    n_samples = [0.1, 0.2, 0.3, 0.4, 0.5, 0.6, 0.7, 0.8, 0.9, 1.0]\n",
    "    for i in n_samples:\n",
    "        models[f'{i}'] = BaggingClassifier(max_samples=i)\n",
    "    return models\n",
    "\n",
    "# Função para avaliar um modelo usando cross-validation\n",
    "def evaluate_model(model, X, y):\n",
    "    # define the evaluation procedure\n",
    "    cv = RepeatedStratifiedKFold(n_splits=5, n_repeats=3, random_state=1)\n",
    "    scores = cross_val_score(model, X, y, scoring='roc_auc', cv=cv, n_jobs=-1)\n",
    "    return scores\n",
    "\n",
    "models = get_models()\n",
    "\n",
    "# Listas para armazenar os resultados\n",
    "results = []\n",
    "names = []\n",
    "\n",
    "for name, model in models.items():\n",
    "    scores = evaluate_model(model, X, y)\n",
    "    results.append(scores)\n",
    "    names.append(name)\n",
    "    print(f'{name, mean(scores), std(scores)}')\n",
    "    \n",
    "# Visualização da avaliação dos modelos variando o número de árvores\n",
    "plt.figure(figsize=(8,6))\n",
    "sns.boxplot(data=results)\n",
    "plt.xticks(range(10), names)\n",
    "plt.ylabel('AUC')\n",
    "plt.xlabel('Número de amostras')"
   ]
  },
  {
   "cell_type": "markdown",
   "id": "3f233349-3aba-415c-a956-5ff63e35ad34",
   "metadata": {},
   "source": [
    "#### Bagging hyperparameters tunning"
   ]
  },
  {
   "cell_type": "code",
   "execution_count": 21,
   "id": "94851620-d3be-4d17-b0d2-52dfb662bb20",
   "metadata": {},
   "outputs": [
    {
     "name": "stdout",
     "output_type": "stream",
     "text": [
      "Fitting 15 folds for each of 50 candidates, totalling 750 fits\n",
      "Best params: {'warm_start': False, 'n_estimators': 500, 'max_samples': 0.9, 'bootstrap': False}\n",
      "Best score: 0.9657045128389039\n"
     ]
    }
   ],
   "source": [
    "params = {'n_estimators' :[10, 50, 100, 500, 1000],\n",
    "          'max_samples': arange(0.1, 1.1, 0.1),\n",
    "          'bootstrap': [False, True],\n",
    "          'warm_start': [False, True],\n",
    "          }\n",
    "\n",
    "cv = RepeatedStratifiedKFold(n_splits=5, n_repeats=3, random_state=42)\n",
    "random_search = RandomizedSearchCV(model_bg, params, n_iter=50, scoring='roc_auc', verbose=1, n_jobs=-1, cv=cv, random_state=42)\n",
    "result = random_search.fit(X_train, y_train)\n",
    "print(f\"Best params: {result.best_params_}\")\n",
    "print(f\"Best score: {result.best_score_}\")"
   ]
  },
  {
   "cell_type": "code",
   "execution_count": 22,
   "id": "1b8ebe7d-0493-4a1d-b930-dde417359610",
   "metadata": {},
   "outputs": [
    {
     "name": "stdout",
     "output_type": "stream",
     "text": [
      "AUC train: 1.0\n",
      "AUC val: 0.9548263838881688\n",
      "AUC test: 0.9591581848082137\n"
     ]
    }
   ],
   "source": [
    "# Ajuste do modelo bagging\n",
    "model_bgt = BaggingClassifier(**result.best_params_, random_state=42).fit(X_train, y_train)\n",
    "\n",
    "# Métricas de desempenho nos conjuntos de validação e teste\n",
    "prob_train = model_bgt.predict_proba(X_train)[:, 1]\n",
    "prob_val = model_bgt.predict_proba(X_val)[:, 1]\n",
    "prob_test = model_bgt.predict_proba(X_test)[:, 1]\n",
    "print(f\"AUC train: {metrics.roc_auc_score(y_train, prob_train)}\")\n",
    "print(f\"AUC val: {metrics.roc_auc_score(y_val, prob_val)}\")\n",
    "print(f\"AUC test: {metrics.roc_auc_score(y_test, prob_test)}\")"
   ]
  },
  {
   "cell_type": "code",
   "execution_count": 23,
   "id": "040a53bf-8d98-4232-95b4-bddc1cd29b33",
   "metadata": {},
   "outputs": [
    {
     "name": "stdout",
     "output_type": "stream",
     "text": [
      "Matriz de confusão validação:\n",
      "\n"
     ]
    },
    {
     "data": {
      "image/png": "[encoded data removed]",
      "text/plain": [
       "<Figure size 576x432 with 1 Axes>"
      ]
     },
     "metadata": {
      "needs_background": "light"
     },
     "output_type": "display_data"
    },
    {
     "name": "stdout",
     "output_type": "stream",
     "text": [
      "Precisão: 0.9066305818673883\n",
      "Recall: 0.8827404479578392\n",
      "f1: 0.8945260347129504\n",
      "\n",
      "---------------------------------------------------------\n",
      "\n",
      "Matriz de confusão teste:\n",
      "\n"
     ]
    },
    {
     "data": {
      "image/png": "[encoded data removed]",
      "text/plain": [
       "<Figure size 576x432 with 1 Axes>"
      ]
     },
     "metadata": {
      "needs_background": "light"
     },
     "output_type": "display_data"
    },
    {
     "name": "stdout",
     "output_type": "stream",
     "text": [
      "Precisão: 0.9073569482288828\n",
      "Recall: 0.8821192052980132\n",
      "f1: 0.8945601074546675\n"
     ]
    }
   ],
   "source": [
    "# Matrizes de confusão e métricas para validação e teste com ponto de corte = 0,5\n",
    "pred_val = (model_bgt.predict_proba(X_val)[:,1] >= 0.5).astype(bool)\n",
    "confusion_val = confusion_matrix(y_val, pred_val)\n",
    "print(f\"Matriz de confusão validação:\\n\")\n",
    "matriz_confusao(confusion_val)\n",
    "precision_val = precision_score(y_val, pred_val, average='binary')\n",
    "recall_val = recall_score(y_val, pred_val, average='binary')\n",
    "f1_val = f1_score(y_val, pred_val, average='binary')\n",
    "print(f\"Precisão: {precision_val}\")\n",
    "print(f\"Recall: {recall_val}\")\n",
    "print(f\"f1: {f1_val}\")\n",
    "\n",
    "print('\\n---------------------------------------------------------\\n')\n",
    "\n",
    "pred_test = (model_bgt.predict_proba(X_test)[:,1] >= 0.5).astype(bool)\n",
    "confusion_test = confusion_matrix(y_test, pred_test)\n",
    "print(f\"Matriz de confusão teste:\\n\")\n",
    "matriz_confusao(confusion_test)\n",
    "precision_test = precision_score(y_test, pred_test, average='binary')\n",
    "recall_test = recall_score(y_test, pred_test, average='binary')\n",
    "f1_test = f1_score(y_test, pred_test, average='binary')\n",
    "print(f\"Precisão: {precision_test}\")\n",
    "print(f\"Recall: {recall_test}\")\n",
    "print(f\"f1: {f1_test}\")"
   ]
  },
  {
   "cell_type": "code",
   "execution_count": null,
   "id": "adc0926a-6c91-4189-b30a-4cc8ea38f427",
   "metadata": {},
   "outputs": [],
   "source": []
  }
 ],
 "metadata": {
  "kernelspec": {
   "display_name": "Python 3 (ipykernel)",
   "language": "python",
   "name": "python3"
  },
  "language_info": {
   "codemirror_mode": {
    "name": "ipython",
    "version": 3
   },
   "file_extension": ".py",
   "mimetype": "text/x-python",
   "name": "python",
   "nbconvert_exporter": "python",
   "pygments_lexer": "ipython3",
   "version": "3.8.11"
  }
 },
 "nbformat": 4,
 "nbformat_minor": 5
}
